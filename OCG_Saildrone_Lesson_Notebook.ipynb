{
 "cells": [
  {
   "cell_type": "markdown",
   "id": "classified-worker",
   "metadata": {},
   "source": [
    "# 2021 Oceanography Camp for Girls Saildrone Lesson\n",
    "Developed by Nancy Williams, Veronica Tamsitt, Nicola Guisewhite at University of South Florida College of Marine Science"
   ]
  },
  {
   "cell_type": "markdown",
   "id": "compound-northern",
   "metadata": {},
   "source": [
    "## To Do List:\n",
    "*"
   ]
  },
  {
   "cell_type": "markdown",
   "id": "isolated-saturn",
   "metadata": {},
   "source": [
    "## Data Sources:\n",
    "* 1-minute physical and ADCP data available from: https://data.saildrone.com/data/sets/antarctica-circumnavigation-2019\n",
    "(login required, so cannot be accessed using an FTP. Will need to download ahead)\n",
    "* hourly-ish CO2, pH data available from: https://www.ncei.noaa.gov/access/metadata/landing-page/bin/iso?id=gov.noaa.nodc:0221912\n",
    "* Satellite Chlorophyll: _______________\n",
    "* SSH: __________________"
   ]
  },
  {
   "cell_type": "code",
   "execution_count": null,
   "id": "funny-stick",
   "metadata": {},
   "outputs": [],
   "source": []
  },
  {
   "cell_type": "markdown",
   "id": "tamil-inflation",
   "metadata": {},
   "source": []
  }
 ],
 "metadata": {
  "kernelspec": {
   "display_name": "Python 3",
   "language": "python",
   "name": "python3"
  },
  "language_info": {
   "codemirror_mode": {
    "name": "ipython",
    "version": 3
   },
   "file_extension": ".py",
   "mimetype": "text/x-python",
   "name": "python",
   "nbconvert_exporter": "python",
   "pygments_lexer": "ipython3",
   "version": "3.8.5"
  }
 },
 "nbformat": 4,
 "nbformat_minor": 5
}
