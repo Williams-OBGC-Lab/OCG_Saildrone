{
 "cells": [
  {
   "cell_type": "markdown",
   "id": "designed-divorce",
   "metadata": {},
   "source": [
    "# 2021 Oceanography Camp for Girls Saildrone Lesson\n",
    "Developed by Nancy Williams, Veronica Tamsitt, Nicola Guisewhite at University of South Florida College of Marine Science"
   ]
  },
  {
   "cell_type": "markdown",
   "id": "unique-tenant",
   "metadata": {},
   "source": [
    "## To Do List:\n",
    "*"
   ]
  },
  {
   "cell_type": "markdown",
   "id": "extended-promise",
   "metadata": {},
   "source": [
    "## Data Sources:\n",
    "* 1-minute physical and ADCP data available from: https://data.saildrone.com/data/sets/antarctica-circumnavigation-2019\n",
    "(login required, so cannot be accessed using an FTP. Will need to download ahead)\n",
    "* hourly-ish CO2, pH data available from: https://www.ncei.noaa.gov/access/metadata/landing-page/bin/iso?id=gov.noaa.nodc:0221912\n",
    "* Satellite Chlorophyll: https://cds.climate.copernicus.eu/cdsapp#!/dataset/satellite-ocean-colour?tab=overview\n",
    "* SSH: https://cds.climate.copernicus.eu/cdsapp#!/dataset/satellite-sea-level-global?tab=overview \n",
    "(login required for chla and SSH, download ahead of time. Can also be downloaded using motuclient, login also required https://github.com/clstoulouse/motu-client-python)"
   ]
  },
  {
   "cell_type": "code",
   "execution_count": 1,
   "id": "lonely-monthly",
   "metadata": {},
   "outputs": [],
   "source": [
    "# Import the tools you need\n",
    "import os\n",
    "import numpy as np\n",
    "import pandas as pd\n",
    "import xarray as xr\n",
    "import matplotlib.pyplot as plt\n",
    "import matplotlib.path as mpath\n",
    "import cartopy.crs as ccrs\n",
    "import cartopy.feature"
   ]
  },
  {
   "cell_type": "code",
   "execution_count": 3,
   "id": "informative-surgery",
   "metadata": {},
   "outputs": [],
   "source": [
    "# Set the paths\n",
    "output_dir = 'Output/'\n",
    "data_dir = 'Data/'"
   ]
  },
  {
   "cell_type": "code",
   "execution_count": 5,
   "id": "fiscal-fitting",
   "metadata": {},
   "outputs": [
    {
     "name": "stdout",
     "output_type": "stream",
     "text": [
      "  % Total    % Received % Xferd  Average Speed   Time    Time     Time  Current\n",
      "                                 Dload  Upload   Total   Spent    Left  Speed\n",
      "100  779k  100  779k    0     0  1314k      0 --:--:-- --:--:-- --:--:-- 1312k\n"
     ]
    }
   ],
   "source": [
    "# Go and download the Saildrone data and put it in the `Data/` folder\n",
    "os.chdir(data_dir) # Change the directory to the `Data/` folder\n",
    "os.getcwd() # Check that you're now in the `Data/` folder\n",
    "# Curl downloads the data files directly from the web and shows you the status while it works. \n",
    "# `!` at the beginning of the line tells you that this command is a unix shell command (not python code)\n",
    "! curl -o 32DB20190119_ASV_Saildrone1020_Antarctic_Jan2019_Aug2019.csv https://www.ncei.noaa.gov/data/oceans/ncei/ocads/data/0221912/32DB20190119_ASV_Saildrone1020_Antarctic_Jan2019_Aug2019.csv\n",
    "os.chdir(\"..\") # Use \"..\" to move back up one directory now that we've imported the MLD climatology data"
   ]
  },
  {
   "cell_type": "code",
   "execution_count": null,
   "id": "timely-suspension",
   "metadata": {},
   "outputs": [],
   "source": []
  }
 ],
 "metadata": {
  "kernelspec": {
   "display_name": "Python 3",
   "language": "python",
   "name": "python3"
  },
  "language_info": {
   "codemirror_mode": {
    "name": "ipython",
    "version": 3
   },
   "file_extension": ".py",
   "mimetype": "text/x-python",
   "name": "python",
   "nbconvert_exporter": "python",
   "pygments_lexer": "ipython3",
   "version": "3.8.5"
  }
 },
 "nbformat": 4,
 "nbformat_minor": 5
}
