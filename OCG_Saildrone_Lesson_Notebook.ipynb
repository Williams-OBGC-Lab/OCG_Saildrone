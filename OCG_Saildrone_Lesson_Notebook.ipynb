{
 "cells": [
  {
   "cell_type": "markdown",
   "id": "designed-divorce",
   "metadata": {},
   "source": [
    "# 2021 Oceanography Camp for Girls Saildrone Lesson\n",
    "Developed by Nancy Williams, Veronica Tamsitt, Nicola Guisewhite at University of South Florida College of Marine Science"
   ]
  },
  {
   "cell_type": "markdown",
   "id": "unique-tenant",
   "metadata": {},
   "source": [
    "## To Do List:\n",
    "* make a function for plotting instead of copy/pasting the map each time"
   ]
  },
  {
   "cell_type": "markdown",
   "id": "extended-promise",
   "metadata": {},
   "source": [
    "## Data Sources:\n",
    "* Saildrone 1-minute physical and ADCP data available from: https://data.saildrone.com/data/sets/antarctica-circumnavigation-2019\n",
    "(login required, so cannot be accessed using an FTP. Will need to download ahead)\n",
    "* Saildrone hourly-ish CO2, pH data available from: https://www.ncei.noaa.gov/access/metadata/landing-page/bin/iso?id=gov.noaa.nodc:0221912\n",
    "* Satellite Chlorophyll: https://cds.climate.copernicus.eu/cdsapp#!/dataset/satellite-ocean-colour?tab=overview\n",
    "* SSH: https://cds.climate.copernicus.eu/cdsapp#!/dataset/satellite-sea-level-global?tab=overview \n",
    "(login required for chla and SSH, download ahead of time. Can also be downloaded using motuclient, login also required https://github.com/clstoulouse/motu-client-python)"
   ]
  },
  {
   "cell_type": "code",
   "execution_count": null,
   "id": "lonely-monthly",
   "metadata": {},
   "outputs": [],
   "source": [
    "# Import the tools you need\n",
    "import os\n",
    "import numpy as np\n",
    "import pandas as pd\n",
    "import xarray as xr\n",
    "import matplotlib.pyplot as plt\n",
    "import matplotlib.path as mpath\n",
    "import cartopy.crs as ccrs\n",
    "import cartopy.feature"
   ]
  },
  {
   "cell_type": "code",
   "execution_count": null,
   "id": "informative-surgery",
   "metadata": {},
   "outputs": [],
   "source": [
    "# Set the paths\n",
    "output_dir = 'Output/'\n",
    "data_dir = 'Data/'"
   ]
  },
  {
   "cell_type": "code",
   "execution_count": null,
   "id": "fiscal-fitting",
   "metadata": {},
   "outputs": [],
   "source": [
    "# Go and download the hourly Saildrone CO2 data and put it in the `Data/` folder\n",
    "os.chdir(data_dir) # Change the directory to the `Data/` folder\n",
    "os.getcwd() # Check that you're now in the `Data/` folder\n",
    "# Curl downloads the data files directly from the web and shows you the status while it works. \n",
    "# `!` at the beginning of the line tells you that this command is a unix shell command (not python code)\n",
    "! curl -o 32DB20190119_ASV_Saildrone1020_Antarctic_Jan2019_Aug2019.csv https://www.ncei.noaa.gov/data/oceans/ncei/ocads/data/0221912/32DB20190119_ASV_Saildrone1020_Antarctic_Jan2019_Aug2019.csv\n",
    "os.chdir(\"..\") # Use \"..\" to move back up one directory now that we've imported the MLD climatology data"
   ]
  },
  {
   "cell_type": "code",
   "execution_count": null,
   "id": "timely-suspension",
   "metadata": {},
   "outputs": [],
   "source": [
    "# Import the hourly Saildrone CO2 data file\n",
    "Saildrone_CO2 = pd.read_csv(\n",
    "    (data_dir + '32DB20190119_ASV_Saildrone1020_Antarctic_Jan2019_Aug2019.csv'),\n",
    "    header=4,\n",
    "    na_values=-999,\n",
    ")\n",
    "# Check that the Saildrone data was imported correctly\n",
    "Saildrone_CO2"
   ]
  },
  {
   "cell_type": "code",
   "execution_count": null,
   "id": "empty-responsibility",
   "metadata": {},
   "outputs": [],
   "source": [
    "# Import the one-minute resolution Saildrone Physical data file\n",
    "ds = xr.open_dataset(data_dir + 'saildrone-gen_5-antarctica_circumnavigation_2019-sd1020-20190119T040000-20190803T043000-1_minutes-v1.1620360815446.nc')\n",
    "Saildrone_phys = ds.to_dataframe()\n",
    "Saildrone_phys"
   ]
  },
  {
   "cell_type": "code",
   "execution_count": null,
   "id": "honest-detective",
   "metadata": {},
   "outputs": [],
   "source": [
    "# Import the Southern Ocean fronts for mapping\n",
    "stf = pd.read_csv(data_dir + 'fronts/stf.txt', header=None, sep='\\s+', na_values='%', names=['lon','lat'])\n",
    "saf = pd.read_csv(data_dir + 'fronts/saf.txt', header=None, sep='\\s+', na_values='%', names=['lon','lat'])\n",
    "pf = pd.read_csv(data_dir + 'fronts/pf.txt', header=None, sep='\\s+', na_values='%', names=['lon','lat'])\n",
    "saccf = pd.read_csv(data_dir + 'fronts/saccf.txt', header=None, sep='\\s+', na_values='%', names=['lon','lat'])\n",
    "sbdy = pd.read_csv(data_dir + 'fronts/sbdy.txt', header=None, sep='\\s+', na_values='%', names=['lon','lat'])"
   ]
  },
  {
   "cell_type": "code",
   "execution_count": null,
   "id": "encouraging-entrepreneur",
   "metadata": {},
   "outputs": [],
   "source": [
    "# Plot the Saildrone track on a map\n",
    "\n",
    "# Make the \"bones\" of the figure\n",
    "plt.figure(figsize=(10, 10))\n",
    "ax = plt.axes(projection=ccrs.SouthPolarStereo())\n",
    "ax.set_extent([-180, 180, -90, -30],ccrs.PlateCarree())\n",
    "ax.add_feature(cartopy.feature.LAND)\n",
    "ax.add_feature(cartopy.feature.OCEAN, color='lightblue')\n",
    "ax.gridlines()\n",
    "\n",
    "# Compute a circle in axes coordinates, which we can use as a boundary\n",
    "# for the map. We can pan/zoom as much as we like - the boundary will be\n",
    "# permanently circular.\n",
    "theta = np.linspace(0, 2 * np.pi, 100)\n",
    "center, radius = [0.5, 0.5], 0.5\n",
    "verts = np.vstack([np.sin(theta), np.cos(theta)]).T\n",
    "circle = mpath.Path(verts * radius + center)\n",
    "\n",
    "# Plot the ACC fronts in various colors\n",
    "ax.set_boundary(circle, transform=ax.transAxes)\n",
    "plt.plot(stf['lon'], stf['lat'], color='Red', transform=ccrs.PlateCarree(), label = 'Subtropical Front')\n",
    "plt.plot(saf['lon'], saf['lat'], color='Orange', transform=ccrs.PlateCarree(), label = 'Subantarctic Front')\n",
    "plt.plot(pf['lon'], pf['lat'], color='Yellow', transform=ccrs.PlateCarree(), label = 'Polar Front')\n",
    "plt.plot(saccf['lon'], saccf['lat'], color='Green', transform=ccrs.PlateCarree(), label = 'Southern ACC Front')\n",
    "plt.plot(sbdy['lon'], sbdy['lat'], color='Blue', transform=ccrs.PlateCarree(), label = 'Southern Boundary of ACC')\n",
    "\n",
    "# Plot the Saildrone in black dots\n",
    "plt.scatter(Saildrone_phys.longitude, Saildrone_phys.latitude,\n",
    "           transform=ccrs.PlateCarree(), c='black', s=3, label='Saildrone', zorder=1000)\n",
    "\n",
    "# Turn on the legend\n",
    "plt.legend()\n",
    "\n",
    "# Save the figure in the output folder\n",
    "plt.title('2019 Saildrone Antarctic Circumnavigation Track')\n",
    "plt.savefig(output_dir + 'SaildroneMap' + '.jpg') # Changing the suffix will change the format\n",
    "plt.show()"
   ]
  },

  {
   "cell_type": "code",
   "execution_count": null,
   "id": "married-parade",
   "metadata": {},
   "outputs": [],
   "source": [
    "# Now plot some variable \"var\" on the map with colored dots\n",
    "var = 'TEMP_CTD_RBR_MEAN'\n",
    "\n",
    "# Make the \"bones\" of the figure\n",
    "plt.figure(figsize=(10, 10))\n",
    "ax = plt.axes(projection=ccrs.SouthPolarStereo())\n",
    "ax.set_extent([-180, 180, -90, -30],ccrs.PlateCarree())\n",
    "ax.add_feature(cartopy.feature.LAND)\n",
    "ax.add_feature(cartopy.feature.OCEAN, color='lightblue')\n",
    "ax.gridlines()\n",
    "\n",
    "# Compute a circle in axes coordinates, which we can use as a boundary\n",
    "# for the map. We can pan/zoom as much as we like - the boundary will be\n",
    "# permanently circular.\n",
    "theta = np.linspace(0, 2 * np.pi, 100)\n",
    "center, radius = [0.5, 0.5], 0.5\n",
    "verts = np.vstack([np.sin(theta), np.cos(theta)]).T\n",
    "circle = mpath.Path(verts * radius + center)\n",
    "\n",
    "# Plot the ACC fronts in various colors\n",
    "ax.set_boundary(circle, transform=ax.transAxes)\n",
    "plt.plot(stf['lon'], stf['lat'], color='Red', transform=ccrs.PlateCarree(), label = 'Subtropical Front')\n",
    "plt.plot(saf['lon'], saf['lat'], color='Orange', transform=ccrs.PlateCarree(), label = 'Subantarctic Front')\n",
    "plt.plot(pf['lon'], pf['lat'], color='Yellow', transform=ccrs.PlateCarree(), label = 'Polar Front')\n",
    "plt.plot(saccf['lon'], saccf['lat'], color='Green', transform=ccrs.PlateCarree(), label = 'Southern ACC Front')\n",
    "plt.plot(sbdy['lon'], sbdy['lat'], color='Blue', transform=ccrs.PlateCarree(), label = 'Southern Boundary of ACC')\n",
    "\n",
    "# Plot the Saildrone in black dots\n",
    "plt.scatter(Saildrone_phys.longitude, Saildrone_phys.latitude, c=Saildrone_phys[var], cmap='bwr',\n",
    "            transform=ccrs.PlateCarree(), s=5, zorder=1000)\n",
    "\n",
    "# Turn on the legend\n",
    "plt.legend()\n",
    "\n",
    "# Save the figure in the output folder\n",
    "plt.title('2019 Saildrone ' + var)\n",
    "plt.savefig(output_dir + var + 'SaildroneMap' + '.jpg') # Changing the suffix will change the format\n",
    "plt.show()"
   ]
  },
  {
   "cell_type": "markdown",
   "id": "fc8df473",
   "metadata": {},
   "source": [
    "Now let's make a map of some satellite data to show the Saildrone crossing an ocean eddy.\n",
    "\n",
    "First we need to load in a single daily satellite sea surface height data file from Feb 10th 2019, the day the Saildrone crossed a large eddy."
   ]
  },
  {
   "cell_type": "code",
   "execution_count": null,
   "id": "exterior-placement",
   "metadata": {},
   "outputs": [],
   "source": [
    "satellite_ssh = xr.open_dataset(data_dir + 'ssh_2019_02_10.nc')"
   ]
  },
  {
   "cell_type": "markdown",
   "id": "823429de",
   "metadata": {},
   "source": [
    "Now plot the Saildrone path on a map of sea surface height for a region surrounding the Saildrone on Feb 10th"
   ]
  },
  {
   "cell_type": "code",
   "execution_count": null,
   "id": "b9ada057",
   "metadata": {
    "scrolled": true
   },
   "outputs": [],
   "source": [
    "#finding position of Saildrone on Feb 10\n",
    "time_index = np.argwhere(Saildrone_phys.time.values==np.datetime64('2019-02-10'))[0]\n",
    "tlon = Saildrone_phys.longitude.values[time_index]\n",
    "tlat = Saildrone_phys.latitude.values[time_index]\n",
    "\n",
    "#make a contour plot of satellite ssh\n",
    "xr.plot.contourf(satellite_ssh.adt[0,:,:],levels=np.arange(-1.2,0.8,0.1),cmap='viridis',size=6,aspect=2)\n",
    "xr.plot.contour(satellite_ssh.adt[0,:,:],levels=np.arange(-1.2,0.8,0.1),colors='k',linewidths=0.75)\n",
    "plt.xlim(tlon+360-5,tlon+360+5)\n",
    "plt.ylim(tlat-5,tlat+5)\n",
    "\n",
    "#add Saildrone track\n",
    "plt.scatter(Saildrone_phys.longitude+360, Saildrone_phys.latitude, c='black', s=3, label='Saildrone', zorder=1000)\n",
    "\n",
    "#give the plot a title and save figure in the output folder\n",
    "plt.title('Saildrone path across an eddy on Feb 10th')\n",
    "plt.savefig(output_dir + 'Sea_surface_height_Saildrone_Feb10' + '.jpg')\n"
   ]
  },
  {
   "cell_type": "markdown",
   "id": "17d1c848",
   "metadata": {},
   "source": [
    "Ocean eddies can be identified by closed rings of constant absolute dynamic topography (this is the anomaly in sea surface height from average sea level, which represents changes in pressure). You can see the Saildrone's path crossing near the center of an eddy.\n",
    "\n",
    "We can do the same thing with satellite chlorophyll-a data"
   ]
  },
  {
   "cell_type": "code",
   "execution_count": null,
   "id": "d213f216",
   "metadata": {},
   "outputs": [],
   "source": []
  }
 ],
 "metadata": {
  "kernelspec": {
   "display_name": "Python 3",
   "language": "python",
   "name": "python3"
  },
  "language_info": {
   "codemirror_mode": {
    "name": "ipython",
    "version": 3
   },
   "file_extension": ".py",
   "mimetype": "text/x-python",
   "name": "python",
   "nbconvert_exporter": "python",
   "pygments_lexer": "ipython3",
   "version": "3.8.8"
  }
 },
 "nbformat": 4,
 "nbformat_minor": 5
}
