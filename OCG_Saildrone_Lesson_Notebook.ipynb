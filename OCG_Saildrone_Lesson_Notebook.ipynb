{
 "cells": [
  {
   "cell_type": "markdown",
   "id": "designed-divorce",
   "metadata": {},
   "source": [
    "# 2021 Oceanography Camp for Girls Saildrone Lesson\n",
    "Developed by Nancy Williams, Veronica Tamsitt, Nicola Guisewhite at University of South Florida College of Marine Science"
   ]
  },
  {
   "cell_type": "markdown",
   "id": "unique-tenant",
   "metadata": {},
   "source": [
    "## To Do List:\n",
    "*"
   ]
  },
  {
   "cell_type": "markdown",
   "id": "extended-promise",
   "metadata": {},
   "source": [
    "## Data Sources:\n",
    "* Saildrone 1-minute physical and ADCP data available from: https://data.saildrone.com/data/sets/antarctica-circumnavigation-2019\n",
    "(login required, so cannot be accessed using an FTP. Will need to download ahead)\n",
    "* Saildrone hourly-ish CO2, pH data available from: https://www.ncei.noaa.gov/access/metadata/landing-page/bin/iso?id=gov.noaa.nodc:0221912\n",
    "* Satellite Chlorophyll: https://cds.climate.copernicus.eu/cdsapp#!/dataset/satellite-ocean-colour?tab=overview\n",
    "* SSH: https://cds.climate.copernicus.eu/cdsapp#!/dataset/satellite-sea-level-global?tab=overview \n",
    "(login required for chla and SSH, download ahead of time. Can also be downloaded using motuclient, login also required https://github.com/clstoulouse/motu-client-python)"
   ]
  },
  {
   "cell_type": "code",
   "execution_count": null,
   "id": "lonely-monthly",
   "metadata": {},
   "outputs": [],
   "source": [
    "# Import the tools you need\n",
    "import os\n",
    "import numpy as np\n",
    "import pandas as pd\n",
    "import xarray as xr\n",
    "import matplotlib.pyplot as plt\n",
    "import matplotlib.path as mpath\n",
    "import cartopy.crs as ccrs\n",
    "import cartopy.feature"
   ]
  },
  {
   "cell_type": "code",
   "execution_count": null,
   "id": "informative-surgery",
   "metadata": {},
   "outputs": [],
   "source": [
    "# Set the paths\n",
    "output_dir = 'Output/'\n",
    "data_dir = 'Data/'"
   ]
  },
  {
   "cell_type": "code",
   "execution_count": null,
   "id": "fiscal-fitting",
   "metadata": {},
   "outputs": [],
   "source": [
    "# Go and download the hourly Saildrone CO2 data and put it in the `Data/` folder\n",
    "os.chdir(data_dir) # Change the directory to the `Data/` folder\n",
    "os.getcwd() # Check that you're now in the `Data/` folder\n",
    "# Curl downloads the data files directly from the web and shows you the status while it works. \n",
    "# `!` at the beginning of the line tells you that this command is a unix shell command (not python code)\n",
    "! curl -o 32DB20190119_ASV_Saildrone1020_Antarctic_Jan2019_Aug2019.csv https://www.ncei.noaa.gov/data/oceans/ncei/ocads/data/0221912/32DB20190119_ASV_Saildrone1020_Antarctic_Jan2019_Aug2019.csv\n",
    "os.chdir(\"..\") # Use \"..\" to move back up one directory now that we've imported the MLD climatology data"
   ]
  },
  {
   "cell_type": "code",
   "execution_count": null,
   "id": "timely-suspension",
   "metadata": {},
   "outputs": [],
   "source": [
    "# Import the hourly Saildrone CO2 data file\n",
    "Saildrone_CO2 = pd.read_csv(\n",
    "    (data_dir + '32DB20190119_ASV_Saildrone1020_Antarctic_Jan2019_Aug2019.csv'),\n",
    "    header=4,\n",
    "    na_values=-999,\n",
    ")\n",
    "# Check that the Saildrone data was imported correctly\n",
    "Saildrone_CO2"
   ]
  },
  {
   "cell_type": "code",
   "execution_count": null,
   "id": "empty-responsibility",
   "metadata": {},
   "outputs": [],
   "source": [
    "# Import the one-minute resolution Saildrone Physical data file\n",
    "ds = xr.open_dataset(data_dir + 'saildrone-gen_5-antarctica_circumnavigation_2019-sd1020-20190119T040000-20190803T043000-1_minutes-v1.1620360815446.nc')\n",
    "Saildrone_phys = ds.to_dataframe()\n",
    "Saildrone_phys"
   ]
  },
  {
   "cell_type": "code",
   "execution_count": null,
   "id": "encouraging-entrepreneur",
   "metadata": {},
   "outputs": [],
   "source": [
    "# Plot the Saildrone track on a map\n",
    "\n",
    "# Import the Southern Ocean fronts\n",
    "stf = pd.read_csv('Data/fronts/stf.txt', header=None, sep='\\s+', na_values='%', names=['lon','lat'])\n",
    "saf = pd.read_csv('Data/fronts/saf.txt', header=None, sep='\\s+', na_values='%', names=['lon','lat'])\n",
    "pf = pd.read_csv('Data/fronts/pf.txt', header=None, sep='\\s+', na_values='%', names=['lon','lat'])\n",
    "saccf = pd.read_csv('Data/fronts/saccf.txt', header=None, sep='\\s+', na_values='%', names=['lon','lat'])\n",
    "sbdy = pd.read_csv('Data/fronts/sbdy.txt', header=None, sep='\\s+', na_values='%', names=['lon','lat'])\n",
    "\n",
    "# Make the \"bones\" of the figure\n",
    "plt.figure(figsize=(10, 10))\n",
    "ax = plt.axes(projection=ccrs.SouthPolarStereo())\n",
    "ax.set_extent([-180, 180, -90, -30],ccrs.PlateCarree())\n",
    "ax.add_feature(cartopy.feature.LAND)\n",
    "ax.add_feature(cartopy.feature.OCEAN, color='lightblue')\n",
    "ax.gridlines()\n",
    "\n",
    "# Compute a circle in axes coordinates, which we can use as a boundary\n",
    "# for the map. We can pan/zoom as much as we like - the boundary will be\n",
    "# permanently circular.\n",
    "theta = np.linspace(0, 2 * np.pi, 100)\n",
    "center, radius = [0.5, 0.5], 0.5\n",
    "verts = np.vstack([np.sin(theta), np.cos(theta)]).T\n",
    "circle = mpath.Path(verts * radius + center)\n",
    "\n",
    "# Plot the ACC fronts in various colors\n",
    "ax.set_boundary(circle, transform=ax.transAxes)\n",
    "plt.plot(stf['lon'], stf['lat'], color='Red', transform=ccrs.PlateCarree(), label = 'Subtropical Front')\n",
    "plt.plot(saf['lon'], saf['lat'], color='Orange', transform=ccrs.PlateCarree(), label = 'Subantarctic Front')\n",
    "plt.plot(pf['lon'], pf['lat'], color='Yellow', transform=ccrs.PlateCarree(), label = 'Polar Front')\n",
    "plt.plot(saccf['lon'], saccf['lat'], color='Green', transform=ccrs.PlateCarree(), label = 'Southern ACC Front')\n",
    "plt.plot(sbdy['lon'], sbdy['lat'], color='Blue', transform=ccrs.PlateCarree(), label = 'Southern Boundary of ACC')\n",
    "\n",
    "# Plot the Saildrone in black dots\n",
    "plt.scatter(Saildrone_phys.longitude, Saildrone_phys.latitude,\n",
    "           transform=ccrs.PlateCarree(), c='black', s=3, label='Saildrone', zorder=1000)\n",
    "\n",
    "# Turn on the legend\n",
    "plt.legend()\n",
    "\n",
    "# Save the figure in the output folder\n",
    "plt.title('2019 Saildrone Antarctic Circumnavigation Track')\n",
    "plt.savefig(output_dir + 'SaildroneMap' + '.jpg') # Changing the suffix will change the format\n",
    "plt.show()"
   ]
  },
  {
   "cell_type": "code",
   "execution_count": null,
   "id": "married-parade",
   "metadata": {},
   "outputs": [],
   "source": []
  },
  {
   "cell_type": "code",
   "execution_count": null,
   "id": "exterior-placement",
   "metadata": {},
   "outputs": [],
   "source": []
  }
 ],
 "metadata": {
  "kernelspec": {
   "display_name": "Python 3",
   "language": "python",
   "name": "python3"
  },
  "language_info": {
   "codemirror_mode": {
    "name": "ipython",
    "version": 3
   },
   "file_extension": ".py",
   "mimetype": "text/x-python",
   "name": "python",
   "nbconvert_exporter": "python",
   "pygments_lexer": "ipython3",
   "version": "3.8.5"
  }
 },
 "nbformat": 4,
 "nbformat_minor": 5
}
